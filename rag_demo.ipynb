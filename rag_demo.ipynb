{
 "cells": [
  {
   "cell_type": "code",
   "execution_count": 3,
   "metadata": {},
   "outputs": [
    {
     "name": "stdout",
     "output_type": "stream",
     "text": [
      "hello rag\n"
     ]
    }
   ],
   "source": [
    "print(\"hello rag\")"
   ]
  },
  {
   "cell_type": "code",
   "execution_count": 15,
   "metadata": {},
   "outputs": [],
   "source": [
    "from langchain.document_loaders import PyPDFLoader\n",
    "from langchain.text_splitter import RecursiveCharacterTextSplitter\n",
    "\n",
    "def load_and_split_pdf(pdf_path):\n",
    "    loader = PyPDFLoader(pdf_path)\n",
    "    documents = loader.load()\n",
    "    \n",
    "    text_splitter = RecursiveCharacterTextSplitter(chunk_size=500, chunk_overlap=50)\n",
    "    chunks = text_splitter.split_documents(documents)\n",
    "    \n",
    "    return chunks\n"
   ]
  },
  {
   "cell_type": "code",
   "execution_count": 16,
   "metadata": {},
   "outputs": [],
   "source": [
    "from langchain.embeddings import HuggingFaceEmbeddings\n",
    "from langchain.vectorstores import Chroma\n",
    "\n",
    "# Load embeddings model\n",
    "embedding_model = HuggingFaceEmbeddings(model_name=\"all-MiniLM-L6-v2\")\n",
    "\n",
    "def create_chroma_db(chunks):\n",
    "    vector_db = Chroma.from_documents(chunks, embedding_model, persist_directory=\"./chroma_db\")\n",
    "    return vector_db\n"
   ]
  },
  {
   "cell_type": "code",
   "execution_count": 17,
   "metadata": {},
   "outputs": [],
   "source": [
    "def retrieve_relevant_docs(query, vector_db, k=3):\n",
    "    docs = vector_db.similarity_search(query, k=k)\n",
    "    return docs\n"
   ]
  },
  {
   "cell_type": "code",
   "execution_count": 31,
   "metadata": {},
   "outputs": [],
   "source": [
    "import ollama\n",
    "\n",
    "def generate_response(query, retrieved_docs):\n",
    "    context = \"\\n\".join([doc.page_content for doc in retrieved_docs])\n",
    "    prompt = f\"Assume you are a HR manager. Use the following context to answer the query:\\n\\n{context}\\n\\nQuery: {query}\"\n",
    "    \n",
    "    response = ollama.chat(model=\"deepseek-r1:8b\", messages=[{\"role\": \"user\", \"content\": prompt}])\n",
    "    return response['message']['content']\n"
   ]
  },
  {
   "cell_type": "code",
   "execution_count": 1,
   "metadata": {},
   "outputs": [
    {
     "ename": "NameError",
     "evalue": "name 'load_and_split_pdf' is not defined",
     "output_type": "error",
     "traceback": [
      "\u001b[0;31m---------------------------------------------------------------------------\u001b[0m",
      "\u001b[0;31mNameError\u001b[0m                                 Traceback (most recent call last)",
      "Cell \u001b[0;32mIn[1], line 5\u001b[0m\n\u001b[1;32m      2\u001b[0m query \u001b[38;5;241m=\u001b[39m \u001b[38;5;124m\"\u001b[39m\u001b[38;5;124mHow would you rate you the candidate out of 10\u001b[39m\u001b[38;5;124m\"\u001b[39m  \u001b[38;5;66;03m# Change this to your query\u001b[39;00m\n\u001b[1;32m      4\u001b[0m \u001b[38;5;66;03m# Step 1: Load and Process PDF\u001b[39;00m\n\u001b[0;32m----> 5\u001b[0m chunks \u001b[38;5;241m=\u001b[39m \u001b[43mload_and_split_pdf\u001b[49m(pdf_path)\n\u001b[1;32m      7\u001b[0m \u001b[38;5;66;03m# Step 2: Store in ChromaDB\u001b[39;00m\n\u001b[1;32m      8\u001b[0m vector_db \u001b[38;5;241m=\u001b[39m create_chroma_db(chunks)\n",
      "\u001b[0;31mNameError\u001b[0m: name 'load_and_split_pdf' is not defined"
     ]
    }
   ],
   "source": [
    "pdf_path = \"sample_cv.pdf\"  # Change this to your PDF file\n",
    "query = \"How would you rate you the candidate out of 10\"  # Change this to your query\n",
    "\n",
    "# Step 1: Load and Process PDF\n",
    "chunks = load_and_split_pdf(pdf_path)\n",
    "\n",
    "# Step 2: Store in ChromaDB\n",
    "vector_db = create_chroma_db(chunks)\n",
    "\n",
    "# Step 3: Retrieve Relevant Chunks\n",
    "retrieved_docs = retrieve_relevant_docs(query, vector_db)\n",
    "\n",
    "# Step 4: Generate Answer\n",
    "response = generate_response(query, retrieved_docs)\n",
    "\n",
    "print(\"Response:\", response)\n"
   ]
  }
 ],
 "metadata": {
  "kernelspec": {
   "display_name": "Python 3",
   "language": "python",
   "name": "python3"
  },
  "language_info": {
   "codemirror_mode": {
    "name": "ipython",
    "version": 3
   },
   "file_extension": ".py",
   "mimetype": "text/x-python",
   "name": "python",
   "nbconvert_exporter": "python",
   "pygments_lexer": "ipython3",
   "version": "3.9.6"
  }
 },
 "nbformat": 4,
 "nbformat_minor": 2
}
